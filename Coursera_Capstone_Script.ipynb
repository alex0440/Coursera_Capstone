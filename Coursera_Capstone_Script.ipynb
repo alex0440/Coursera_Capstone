{
 "cells": [
  {
   "cell_type": "code",
   "execution_count": 1,
   "metadata": {},
   "outputs": [],
   "source": [
    "# This notebook will be mainly used for the capstone project."
   ]
  },
  {
   "cell_type": "code",
   "execution_count": 1,
   "metadata": {},
   "outputs": [],
   "source": [
    "# INTRODUCTION / BUSINESS PROBLEM\n",
    "# This project will use data collected from collisions in different scenarios to try predict the severity of an accident prior to it occuring. \n",
    "# The value of predicting severity of accidents is immesurable in terms of number accidents potentially avoided and the cost of treatment associated with those accidents.\n",
    "# By building a model which can predict accident severity in different conditions, warnings may be sent to drivers alerting them to environment conditions with potential for high severity.\n",
    "# By understanding the relationship between different environment conditions, we can determine what areas of road safety are important for drivers to be vigilant of."
   ]
  },
  {
   "cell_type": "code",
   "execution_count": 3,
   "metadata": {},
   "outputs": [],
   "source": [
    "# DATA\n",
    "# The data provided to build our model contains numerous conditions, accident types, accident descriptions and most importantly severity outcome.\n",
    "# This data will allow us to build a model which will understand the different environment types to predict a severity outcome.\n",
    "# By understanding the relationship between different environment conditions, we can determine what areas of road safety are important for governments to focus on and refine.\n",
    "# The data will need to be refined to ensure that the model can be trained with precise data inputs.\n",
    "# Before proceeding to the deployment stage, the model needs to be evaluated thoroughly to ensure that the business or the applications' objectives are achieved.\n",
    "# Certain metrics can be used for the model evaluation such as accuracy, recall, F1-score, precision, and others."
   ]
  },
  {
   "cell_type": "code",
   "execution_count": 2,
   "metadata": {},
   "outputs": [],
   "source": [
    "import pandas as pd"
   ]
  },
  {
   "cell_type": "code",
   "execution_count": 3,
   "metadata": {},
   "outputs": [],
   "source": [
    "import numpy as np"
   ]
  },
  {
   "cell_type": "code",
   "execution_count": 5,
   "metadata": {},
   "outputs": [
    {
     "name": "stdout",
     "output_type": "stream",
     "text": [
      "Hello Capstone Project Course!\n"
     ]
    }
   ],
   "source": [
    "print(\"Hello Capstone Project Course!\")"
   ]
  },
  {
   "cell_type": "code",
   "execution_count": null,
   "metadata": {},
   "outputs": [],
   "source": []
  }
 ],
 "metadata": {
  "kernelspec": {
   "display_name": "Python 3",
   "language": "python",
   "name": "python3"
  },
  "language_info": {
   "codemirror_mode": {
    "name": "ipython",
    "version": 3
   },
   "file_extension": ".py",
   "mimetype": "text/x-python",
   "name": "python",
   "nbconvert_exporter": "python",
   "pygments_lexer": "ipython3",
   "version": "3.8.3"
  }
 },
 "nbformat": 4,
 "nbformat_minor": 4
}
